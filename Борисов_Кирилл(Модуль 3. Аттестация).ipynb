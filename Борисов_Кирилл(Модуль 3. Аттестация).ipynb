{
 "cells": [
  {
   "cell_type": "markdown",
   "metadata": {},
   "source": [
    "# Промежуточная аттестация по сетям искусcтвенных нейронов.\n",
    "## Задание\n",
    "\n",
    "**Ваша задача - создать классификатор изображений с помощью Keras и сверточных нейронных сетей для набора данных Fashion MNIST. Этот набор данных включает 10 меток с разными типами одежды с изображениями 28 на 28 * в оттенках серого *. Имеется обучающий набор из 60 000 изображений и 10 000 тестовых изображений.**\n",
    "\n",
    "Описание классов\n",
    "\n",
    "    Label\tDescription\n",
    "    0\t    T-shirt/top\n",
    "    1\t    Trouser\n",
    "    2\t    Pullover\n",
    "    3\t    Dress\n",
    "    4\t    Coat\n",
    "    5\t    Sandal\n",
    "    6\t    Shirt\n",
    "    7\t    Sneaker\n",
    "    8\t    Bag\n",
    "    9\t    Ankle boot\n",
    "    \n",
    " "
   ]
  },
  {
   "cell_type": "markdown",
   "metadata": {},
   "source": [
    "## Данные\n",
    "\n",
    "**Загружаем данные**"
   ]
  },
  {
   "cell_type": "code",
   "execution_count": 218,
   "metadata": {},
   "outputs": [],
   "source": [
    "from tensorflow.keras.datasets import fashion_mnist\n",
    "\n",
    "(x_train, y_train), (x_test, y_test) = fashion_mnist.load_data()"
   ]
  },
  {
   "cell_type": "markdown",
   "metadata": {},
   "source": [
    "## Визаулизация датасета\n",
    "\n",
    "**Используйте matplotlib чтобы показать пример картинки.**"
   ]
  },
  {
   "cell_type": "code",
   "execution_count": 219,
   "metadata": {},
   "outputs": [],
   "source": [
    "import matplotlib.pyplot as plt\n"
   ]
  },
  {
   "cell_type": "code",
   "execution_count": 220,
   "metadata": {},
   "outputs": [],
   "source": [
    "index = 0"
   ]
  },
  {
   "cell_type": "code",
   "execution_count": 221,
   "metadata": {},
   "outputs": [
    {
     "data": {
      "image/png": "[encoded data removed]",
      "text/plain": [
       "<Figure size 640x480 with 1 Axes>"
      ]
     },
     "metadata": {},
     "output_type": "display_data"
    }
   ],
   "source": [
    "plt.imshow(x_train[index], cmap='viridis')\n",
    "plt.title(f\"Класс: {y_train[index]}\")\n",
    "plt.show()"
   ]
  },
  {
   "cell_type": "markdown",
   "metadata": {},
   "source": [
    "## Предобработка\n",
    "\n",
    "**Нормализуйте данные X_train и X_test **"
   ]
  },
  {
   "cell_type": "code",
   "execution_count": 222,
   "metadata": {},
   "outputs": [],
   "source": [
    "import numpy as np"
   ]
  },
  {
   "cell_type": "code",
   "execution_count": 223,
   "metadata": {},
   "outputs": [],
   "source": [
    "x_train_normalized = x_train / 255.0\n",
    "x_test_normalized = x_test / 255.0\n"
   ]
  },
  {
   "cell_type": "markdown",
   "metadata": {},
   "source": [
    "**Измените форму массивов X_train и X_test так, чтобы они стали 4-мерными**\n",
    "batch_size x channels x H x W"
   ]
  },
  {
   "cell_type": "code",
   "execution_count": 224,
   "metadata": {},
   "outputs": [],
   "source": [
    "x_train_normalized = x_train_normalized.reshape(-1, 1, 28, 28)\n",
    "x_test_normalized = x_test_normalized.reshape(-1, 1, 28, 28)\n"
   ]
  },
  {
   "cell_type": "code",
   "execution_count": 225,
   "metadata": {},
   "outputs": [
    {
     "name": "stdout",
     "output_type": "stream",
     "text": [
      "(60000, 1, 28, 28)\n",
      "(10000, 1, 28, 28)\n"
     ]
    }
   ],
   "source": [
    "print(x_train_normalized.shape)\n",
    "print(x_test_normalized.shape) "
   ]
  },
  {
   "cell_type": "markdown",
   "metadata": {},
   "source": [
    "**Преобразуйте  y_train и y_test в one_hot представления **"
   ]
  },
  {
   "cell_type": "code",
   "execution_count": 226,
   "metadata": {},
   "outputs": [],
   "source": [
    "from tensorflow.keras.utils import to_categorical"
   ]
  },
  {
   "cell_type": "code",
   "execution_count": 227,
   "metadata": {},
   "outputs": [],
   "source": [
    "y_train_one_hot = to_categorical(y_train, num_classes=10)\n",
    "y_test_one_hot = to_categorical(y_test, num_classes=10)"
   ]
  },
  {
   "cell_type": "code",
   "execution_count": 228,
   "metadata": {},
   "outputs": [
    {
     "name": "stdout",
     "output_type": "stream",
     "text": [
      "(60000, 10)\n",
      "(10000, 10)\n"
     ]
    }
   ],
   "source": [
    "print(y_train_one_hot.shape)\n",
    "print(y_test_one_hot.shape)  "
   ]
  },
  {
   "cell_type": "markdown",
   "metadata": {},
   "source": [
    "## Создайте модель\n",
    "\n",
    "**Примерная структура модели. При выполнении задания вы можете поэкспериментировать со слоями**\n",
    "\n",
    "* Сверточный слой, 32 фильтра, размер ядра=(4,4)\n",
    "* Пулинг с pool_size = (2,2)\n",
    "\n",
    "* Выпрямляющий слой (Flatten)\n",
    "* Полносвязный слой (например 128 нейронов), RELU \n",
    "\n",
    "* Выходной полносвязный слой с 10 нейронами с softmax \n",
    "\n",
    "**При компиляции укажите loss='categorical_crossentropy', optimizer='rmsprop', metrics=['accuracy']**"
   ]
  },
  {
   "cell_type": "code",
   "execution_count": 229,
   "metadata": {},
   "outputs": [],
   "source": [
    "import tensorflow as tf\n",
    "from tensorflow.keras import layers, models\n"
   ]
  },
  {
   "cell_type": "code",
   "execution_count": 230,
   "metadata": {},
   "outputs": [],
   "source": [
    "model = models.Sequential()\n",
    "model.add(layers.Conv2D(32, (4, 4), activation='relu', input_shape=(1, 28, 28), padding='same'))\n",
    "\n",
    "model.add(layers.MaxPooling2D((2, 2), padding='same'))\n",
    "model.add(layers.Flatten())\n",
    "model.add(layers.Dense(128, activation='relu'))\n",
    "model.add(layers.Dense(10, activation='softmax'))\n",
    "model.compile(loss='categorical_crossentropy', optimizer='rmsprop', metrics=['accuracy'])\n"
   ]
  },
  {
   "cell_type": "code",
   "execution_count": 231,
   "metadata": {},
   "outputs": [
    {
     "name": "stdout",
     "output_type": "stream",
     "text": [
      "Model: \"sequential_13\"\n",
      "_________________________________________________________________\n",
      " Layer (type)                Output Shape              Param #   \n",
      "=================================================================\n",
      " conv2d_13 (Conv2D)          (None, 1, 28, 32)         14368     \n",
      "                                                                 \n",
      " max_pooling2d_12 (MaxPooli  (None, 1, 14, 32)         0         \n",
      " ng2D)                                                           \n",
      "                                                                 \n",
      " flatten_9 (Flatten)         (None, 448)               0         \n",
      "                                                                 \n",
      " dense_18 (Dense)            (None, 128)               57472     \n",
      "                                                                 \n",
      " dense_19 (Dense)            (None, 10)                1290      \n",
      "                                                                 \n",
      "=================================================================\n",
      "Total params: 73130 (285.66 KB)\n",
      "Trainable params: 73130 (285.66 KB)\n",
      "Non-trainable params: 0 (0.00 Byte)\n",
      "_________________________________________________________________\n"
     ]
    }
   ],
   "source": [
    "model.summary()"
   ]
  },
  {
   "cell_type": "markdown",
   "metadata": {},
   "source": [
    "# Тренировка модели\n",
    "**Тренируем модель на x_train. Число эпох выберите самостоятельно**"
   ]
  },
  {
   "cell_type": "code",
   "execution_count": 232,
   "metadata": {},
   "outputs": [
    {
     "name": "stdout",
     "output_type": "stream",
     "text": [
      "Epoch 1/10\n",
      "750/750 [==============================] - 3s 4ms/step - loss: 0.5429 - accuracy: 0.8066 - val_loss: 0.4159 - val_accuracy: 0.8533\n",
      "Epoch 2/10\n",
      "750/750 [==============================] - 3s 4ms/step - loss: 0.3728 - accuracy: 0.8653 - val_loss: 0.3661 - val_accuracy: 0.8705\n",
      "Epoch 3/10\n",
      "750/750 [==============================] - 3s 4ms/step - loss: 0.3283 - accuracy: 0.8804 - val_loss: 0.3330 - val_accuracy: 0.8822\n",
      "Epoch 4/10\n",
      "750/750 [==============================] - 3s 4ms/step - loss: 0.2999 - accuracy: 0.8897 - val_loss: 0.3178 - val_accuracy: 0.8867\n",
      "Epoch 5/10\n",
      "750/750 [==============================] - 3s 4ms/step - loss: 0.2825 - accuracy: 0.8964 - val_loss: 0.3194 - val_accuracy: 0.8881\n",
      "Epoch 6/10\n",
      "750/750 [==============================] - 3s 4ms/step - loss: 0.2664 - accuracy: 0.9026 - val_loss: 0.3124 - val_accuracy: 0.8883\n",
      "Epoch 7/10\n",
      "750/750 [==============================] - 3s 4ms/step - loss: 0.2518 - accuracy: 0.9063 - val_loss: 0.3067 - val_accuracy: 0.8890\n",
      "Epoch 8/10\n",
      "750/750 [==============================] - 3s 4ms/step - loss: 0.2403 - accuracy: 0.9112 - val_loss: 0.3055 - val_accuracy: 0.8896\n",
      "Epoch 9/10\n",
      "750/750 [==============================] - 3s 4ms/step - loss: 0.2282 - accuracy: 0.9159 - val_loss: 0.2954 - val_accuracy: 0.8957\n",
      "Epoch 10/10\n",
      "750/750 [==============================] - 3s 4ms/step - loss: 0.2190 - accuracy: 0.9193 - val_loss: 0.2992 - val_accuracy: 0.8957\n"
     ]
    }
   ],
   "source": [
    "epochs = 10\n",
    "batch_size = 64\n",
    "history = model.fit(x_train_normalized, y_train_one_hot, epochs=epochs, batch_size=batch_size, validation_split=0.2)\n"
   ]
  },
  {
   "cell_type": "markdown",
   "metadata": {},
   "source": [
    "### Оценка модели\n",
    "\n",
    "**Оцените модель по метрикам accuracy,precision,recall,f1-score на тестовой выборке x_test **"
   ]
  },
  {
   "cell_type": "code",
   "execution_count": 233,
   "metadata": {},
   "outputs": [],
   "source": [
    "from sklearn.metrics import classification_report"
   ]
  },
  {
   "cell_type": "code",
   "execution_count": 234,
   "metadata": {},
   "outputs": [
    {
     "name": "stdout",
     "output_type": "stream",
     "text": [
      "313/313 [==============================] - 0s 1ms/step\n"
     ]
    }
   ],
   "source": [
    "y_pred = model.predict(x_test_normalized)"
   ]
  },
  {
   "cell_type": "code",
   "execution_count": 235,
   "metadata": {},
   "outputs": [],
   "source": [
    "predictions = np.argmax(y_pred, axis=1)\n",
    "y_test = np.argmax(y_test_one_hot, axis=1)"
   ]
  },
  {
   "cell_type": "code",
   "execution_count": 236,
   "metadata": {},
   "outputs": [],
   "source": [
    "report = classification_report(y_test,predictions) "
   ]
  },
  {
   "cell_type": "code",
   "execution_count": 237,
   "metadata": {},
   "outputs": [
    {
     "name": "stdout",
     "output_type": "stream",
     "text": [
      "              precision    recall  f1-score   support\n",
      "\n",
      "           0       0.89      0.75      0.81      1000\n",
      "           1       0.98      0.97      0.98      1000\n",
      "           2       0.82      0.80      0.81      1000\n",
      "           3       0.90      0.91      0.90      1000\n",
      "           4       0.82      0.84      0.83      1000\n",
      "           5       0.95      0.98      0.97      1000\n",
      "           6       0.66      0.77      0.71      1000\n",
      "           7       0.97      0.92      0.94      1000\n",
      "           8       0.98      0.96      0.97      1000\n",
      "           9       0.95      0.97      0.96      1000\n",
      "\n",
      "    accuracy                           0.89     10000\n",
      "   macro avg       0.89      0.89      0.89     10000\n",
      "weighted avg       0.89      0.89      0.89     10000\n",
      "\n"
     ]
    }
   ],
   "source": [
    "print(report)"
   ]
  },
  {
   "cell_type": "markdown",
   "metadata": {},
   "source": [
    "## Дополнительно\n",
    " \n",
    "* Отрисуйте фильтры на слое Conv2D, сравните до и после обучения модели"
   ]
  },
  {
   "cell_type": "code",
   "execution_count": 238,
   "metadata": {},
   "outputs": [
    {
     "data": {
      "image/png": "[encoded data removed]",
      "text/plain": [
       "<Figure size 1000x500 with 32 Axes>"
      ]
     },
     "metadata": {},
     "output_type": "display_data"
    }
   ],
   "source": [
    "conv_layer = model.layers[0]\n",
    "weights_before_training = conv_layer.get_weights()[0]\n",
    "\n",
    "\n",
    "plt.figure(figsize=(10, 5))\n",
    "for i in range(32):\n",
    "    plt.subplot(4, 8, i + 1)\n",
    "    plt.imshow(weights_before_training[:, :, 0, i], cmap='viridis')\n",
    "    plt.axis('off')\n",
    "plt.suptitle('Фильтры Conv2D до обучения')\n",
    "plt.show()"
   ]
  },
  {
   "cell_type": "code",
   "execution_count": 239,
   "metadata": {},
   "outputs": [
    {
     "name": "stdout",
     "output_type": "stream",
     "text": [
      "Epoch 1/30\n",
      "750/750 [==============================] - 3s 4ms/step - loss: 0.2095 - accuracy: 0.9238 - val_loss: 0.3092 - val_accuracy: 0.8937\n",
      "Epoch 2/30\n",
      "750/750 [==============================] - 3s 4ms/step - loss: 0.2017 - accuracy: 0.9255 - val_loss: 0.3057 - val_accuracy: 0.8989\n",
      "Epoch 3/30\n",
      "750/750 [==============================] - 3s 4ms/step - loss: 0.1922 - accuracy: 0.9284 - val_loss: 0.3018 - val_accuracy: 0.8977\n",
      "Epoch 4/30\n",
      "750/750 [==============================] - 3s 4ms/step - loss: 0.1851 - accuracy: 0.9317 - val_loss: 0.3265 - val_accuracy: 0.8942\n",
      "Epoch 5/30\n",
      "750/750 [==============================] - 3s 4ms/step - loss: 0.1778 - accuracy: 0.9348 - val_loss: 0.3075 - val_accuracy: 0.9004\n",
      "Epoch 6/30\n",
      "750/750 [==============================] - 3s 4ms/step - loss: 0.1712 - accuracy: 0.9371 - val_loss: 0.3277 - val_accuracy: 0.8957\n",
      "Epoch 7/30\n",
      "750/750 [==============================] - 3s 4ms/step - loss: 0.1648 - accuracy: 0.9392 - val_loss: 0.3129 - val_accuracy: 0.8991\n",
      "Epoch 8/30\n",
      "750/750 [==============================] - 3s 4ms/step - loss: 0.1582 - accuracy: 0.9411 - val_loss: 0.3257 - val_accuracy: 0.8984\n",
      "Epoch 9/30\n",
      "750/750 [==============================] - 3s 4ms/step - loss: 0.1520 - accuracy: 0.9438 - val_loss: 0.3423 - val_accuracy: 0.8986\n",
      "Epoch 10/30\n",
      "750/750 [==============================] - 3s 4ms/step - loss: 0.1464 - accuracy: 0.9462 - val_loss: 0.3261 - val_accuracy: 0.9001\n",
      "Epoch 11/30\n",
      "750/750 [==============================] - 3s 4ms/step - loss: 0.1402 - accuracy: 0.9489 - val_loss: 0.3432 - val_accuracy: 0.8998\n",
      "Epoch 12/30\n",
      "750/750 [==============================] - 3s 4ms/step - loss: 0.1364 - accuracy: 0.9500 - val_loss: 0.3535 - val_accuracy: 0.8985\n",
      "Epoch 13/30\n",
      "750/750 [==============================] - 3s 4ms/step - loss: 0.1305 - accuracy: 0.9529 - val_loss: 0.3562 - val_accuracy: 0.8971\n",
      "Epoch 14/30\n",
      "750/750 [==============================] - 3s 4ms/step - loss: 0.1271 - accuracy: 0.9539 - val_loss: 0.3624 - val_accuracy: 0.8949\n",
      "Epoch 15/30\n",
      "750/750 [==============================] - 3s 4ms/step - loss: 0.1202 - accuracy: 0.9561 - val_loss: 0.3845 - val_accuracy: 0.8942\n",
      "Epoch 16/30\n",
      "750/750 [==============================] - 3s 4ms/step - loss: 0.1154 - accuracy: 0.9582 - val_loss: 0.3771 - val_accuracy: 0.9006\n",
      "Epoch 17/30\n",
      "750/750 [==============================] - 3s 4ms/step - loss: 0.1117 - accuracy: 0.9593 - val_loss: 0.3953 - val_accuracy: 0.9012\n",
      "Epoch 18/30\n",
      "750/750 [==============================] - 3s 4ms/step - loss: 0.1082 - accuracy: 0.9607 - val_loss: 0.3896 - val_accuracy: 0.8974\n",
      "Epoch 19/30\n",
      "750/750 [==============================] - 3s 4ms/step - loss: 0.1042 - accuracy: 0.9619 - val_loss: 0.4088 - val_accuracy: 0.9002\n",
      "Epoch 20/30\n",
      "750/750 [==============================] - 3s 4ms/step - loss: 0.1018 - accuracy: 0.9634 - val_loss: 0.4060 - val_accuracy: 0.9003\n",
      "Epoch 21/30\n",
      "750/750 [==============================] - 3s 4ms/step - loss: 0.0971 - accuracy: 0.9642 - val_loss: 0.4094 - val_accuracy: 0.8964\n",
      "Epoch 22/30\n",
      "750/750 [==============================] - 3s 4ms/step - loss: 0.0929 - accuracy: 0.9666 - val_loss: 0.4600 - val_accuracy: 0.8834\n",
      "Epoch 23/30\n",
      "750/750 [==============================] - 3s 4ms/step - loss: 0.0903 - accuracy: 0.9668 - val_loss: 0.4447 - val_accuracy: 0.8966\n",
      "Epoch 24/30\n",
      "750/750 [==============================] - 3s 4ms/step - loss: 0.0877 - accuracy: 0.9680 - val_loss: 0.4772 - val_accuracy: 0.8944\n",
      "Epoch 25/30\n",
      "750/750 [==============================] - 3s 4ms/step - loss: 0.0839 - accuracy: 0.9700 - val_loss: 0.4522 - val_accuracy: 0.8975\n",
      "Epoch 26/30\n",
      "750/750 [==============================] - 3s 4ms/step - loss: 0.0810 - accuracy: 0.9710 - val_loss: 0.4682 - val_accuracy: 0.8978\n",
      "Epoch 27/30\n",
      "750/750 [==============================] - 3s 4ms/step - loss: 0.0774 - accuracy: 0.9728 - val_loss: 0.4965 - val_accuracy: 0.8892\n",
      "Epoch 28/30\n",
      "750/750 [==============================] - 3s 4ms/step - loss: 0.0753 - accuracy: 0.9729 - val_loss: 0.5111 - val_accuracy: 0.8943\n",
      "Epoch 29/30\n",
      "750/750 [==============================] - 3s 4ms/step - loss: 0.0732 - accuracy: 0.9739 - val_loss: 0.5593 - val_accuracy: 0.8888\n",
      "Epoch 30/30\n",
      "750/750 [==============================] - 3s 4ms/step - loss: 0.0709 - accuracy: 0.9749 - val_loss: 0.5019 - val_accuracy: 0.9002\n"
     ]
    }
   ],
   "source": [
    "epochs = 30\n",
    "batch_size = 64\n",
    "history = model.fit(x_train_normalized, y_train_one_hot, epochs=epochs, batch_size=batch_size, validation_split=0.2)"
   ]
  },
  {
   "cell_type": "code",
   "execution_count": 240,
   "metadata": {},
   "outputs": [],
   "source": [
    "weights_after_training = conv_layer.get_weights()[0]"
   ]
  },
  {
   "cell_type": "code",
   "execution_count": 241,
   "metadata": {},
   "outputs": [
    {
     "data": {
      "image/png": "[encoded data removed]",
      "text/plain": [
       "<Figure size 1000x500 with 32 Axes>"
      ]
     },
     "metadata": {},
     "output_type": "display_data"
    }
   ],
   "source": [
    "plt.figure(figsize=(10, 5))\n",
    "for i in range(32):\n",
    "    plt.subplot(4, 8, i + 1)\n",
    "    plt.imshow(weights_after_training[:, :, 0, i], cmap='viridis')\n",
    "    plt.axis('off')\n",
    "plt.suptitle('Фильтры Conv2D после обучения')\n",
    "plt.show()"
   ]
  },
  {
   "cell_type": "code",
   "execution_count": null,
   "metadata": {},
   "outputs": [],
   "source": []
  }
 ],
 "metadata": {
  "kernelspec": {
   "display_name": "Python 3 (ipykernel)",
   "language": "python",
   "name": "python3"
  },
  "language_info": {
   "codemirror_mode": {
    "name": "ipython",
    "version": 3
   },
   "file_extension": ".py",
   "mimetype": "text/x-python",
   "name": "python",
   "nbconvert_exporter": "python",
   "pygments_lexer": "ipython3",
   "version": "3.11.3"
  }
 },
 "nbformat": 4,
 "nbformat_minor": 2
}
